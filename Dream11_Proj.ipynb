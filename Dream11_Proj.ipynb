{
  "nbformat": 4,
  "nbformat_minor": 0,
  "metadata": {
    "colab": {
      "provenance": [],
      "authorship_tag": "ABX9TyO3IenQdYtNuG5IOEv3e5q4",
      "include_colab_link": true
    },
    "kernelspec": {
      "name": "python3",
      "display_name": "Python 3"
    },
    "language_info": {
      "name": "python"
    }
  },
  "cells": [
    {
      "cell_type": "markdown",
      "metadata": {
        "id": "view-in-github",
        "colab_type": "text"
      },
      "source": [
        "<a href=\"https://colab.research.google.com/github/HariSudhan76/Dream11/blob/ListofPlayers/Dream11_Proj.ipynb\" target=\"_parent\"><img src=\"https://colab.research.google.com/assets/colab-badge.svg\" alt=\"Open In Colab\"/></a>"
      ]
    },
    {
      "cell_type": "code",
      "source": [
        "from bs4 import BeautifulSoup\n",
        "import requests\n",
        "\n",
        "main_url = \"https://www.espncricinfo.com\"\n",
        "########### Get the match \n",
        "url = f\"{main_url}/live-cricket-score\"\n",
        "response = requests.get(url)\n",
        "soup = BeautifulSoup(response.text, 'html.parser')\n",
        "stats = soup.findAll('a',{'ds-no-tap-higlight','href'})\n",
        "match_list = [f'{main_url}{e.get(\"href\").replace(\"live-cricket-score\",\"full-scorecard\")}' for e in stats if 'women-s-premier-league' in e.get(\"href\")]\n",
        "##print(match_list)\n",
        "\n",
        "########### Get the player details\n",
        "todays_match = requests.get(match_list[0])\n",
        "p_soup = BeautifulSoup(todays_match.text, 'html.parser')\n",
        "players = p_soup.findAll('a',class_='ds-inline-flex ds-items-start ds-leading-none')\n",
        "players_list = [p.get(\"href\") for p in players]\n",
        "pl_list = []\n",
        "for p in players_list:\n",
        "  if 'cricketers' in p:\n",
        "    p_det = p.split(\"/\")\n",
        "    p_list = f\"{p_det[2]}\"\n",
        "    pl_list.append({'name': f'{p_list.split(\"-\")[0]}-{p_list.split(\"-\")[1]}','id':p_list.split(\"-\")[2], 'player_link': f'{main_url}{p}' })\n",
        "\n",
        "print(pl_list)\n",
        "\n",
        "\n",
        "\n"
      ],
      "metadata": {
        "colab": {
          "base_uri": "https://localhost:8080/"
        },
        "id": "GuSgf5PcE6iT",
        "outputId": "ff8fc6a3-eade-496d-cd0e-3b3a10790156"
      },
      "execution_count": 80,
      "outputs": [
        {
          "output_type": "stream",
          "name": "stdout",
          "text": [
            "['https://www.espncricinfo.com/series/women-s-premier-league-2022-23-1348825/up-warriorz-women-vs-mumbai-indians-women-10th-match-1358938/full-scorecard']\n",
            "[{'name': 'devika-vaidya', 'id': '709837', 'player_link': 'https://www.espncricinfo.com/cricketers/devika-vaidya-709837'}, {'name': 'alyssa-healy', 'id': '275486', 'player_link': 'https://www.espncricinfo.com/cricketers/alyssa-healy-275486'}, {'name': 'shweta-sehrawat', 'id': '1255442', 'player_link': 'https://www.espncricinfo.com/cricketers/shweta-sehrawat-1255442'}, {'name': 'kiran-navgire', 'id': '1289983', 'player_link': 'https://www.espncricinfo.com/cricketers/kiran-navgire-1289983'}, {'name': 'tahlia-mcgrath', 'id': '381311', 'player_link': 'https://www.espncricinfo.com/cricketers/tahlia-mcgrath-381311'}, {'name': 'deepti-sharma', 'id': '597811', 'player_link': 'https://www.espncricinfo.com/cricketers/deepti-sharma-597811'}, {'name': 'shabnim-ismail', 'id': '276997', 'player_link': 'https://www.espncricinfo.com/cricketers/shabnim-ismail-276997'}, {'name': 'simran-shaikh', 'id': '1255541', 'player_link': 'https://www.espncricinfo.com/cricketers/simran-shaikh-1255541'}, {'name': 'sophie-ecclestone', 'id': '878039', 'player_link': 'https://www.espncricinfo.com/cricketers/sophie-ecclestone-878039'}, {'name': 'anjali-sarvani', 'id': '960673', 'player_link': 'https://www.espncricinfo.com/cricketers/anjali-sarvani-960673'}, {'name': 'rajeshwari-gayakwad', 'id': '709635', 'player_link': 'https://www.espncricinfo.com/cricketers/rajeshwari-gayakwad-709635'}, {'name': 'yastika-bhatia', 'id': '960715', 'player_link': 'https://www.espncricinfo.com/cricketers/yastika-bhatia-960715'}, {'name': 'hayley-matthews', 'id': '474308', 'player_link': 'https://www.espncricinfo.com/cricketers/hayley-matthews-474308'}, {'name': 'nat-sciver', 'id': 'brunt', 'player_link': 'https://www.espncricinfo.com/cricketers/nat-sciver-brunt-515905'}, {'name': 'harmanpreet-kaur', 'id': '372317', 'player_link': 'https://www.espncricinfo.com/cricketers/harmanpreet-kaur-372317'}, {'name': 'amelia-kerr', 'id': '803971', 'player_link': 'https://www.espncricinfo.com/cricketers/amelia-kerr-803971'}, {'name': 'dhara-gujjar', 'id': '1255408', 'player_link': 'https://www.espncricinfo.com/cricketers/dhara-gujjar-1255408'}, {'name': 'issy-wong', 'id': '1146066', 'player_link': 'https://www.espncricinfo.com/cricketers/issy-wong-1146066'}, {'name': 'humaira-kazi', 'id': '961005', 'player_link': 'https://www.espncricinfo.com/cricketers/humaira-kazi-961005'}, {'name': 'amanjot-kaur', 'id': '1255411', 'player_link': 'https://www.espncricinfo.com/cricketers/amanjot-kaur-1255411'}, {'name': 'jintimani-kalita', 'id': '1255387', 'player_link': 'https://www.espncricinfo.com/cricketers/jintimani-kalita-1255387'}, {'name': 'saika-ishaque', 'id': '597815', 'player_link': 'https://www.espncricinfo.com/cricketers/saika-ishaque-597815'}]\n"
          ]
        }
      ]
    },
    {
      "cell_type": "code",
      "source": [],
      "metadata": {
        "id": "pCrgL0ElIq-G"
      },
      "execution_count": null,
      "outputs": []
    }
  ]
}